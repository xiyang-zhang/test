{
 "cells": [
  {
   "cell_type": "markdown",
   "metadata": {},
   "source": [
    "# Stationary Phase Approximation"
   ]
  },
  {
   "cell_type": "markdown",
   "metadata": {},
   "source": [
    "The calculation following is to list the value of $f-f_0$ in the stationay phase approximation. The equation is \n",
    "$$\\omega_\\text{orb} t_m = \\arccos\\left(\\frac{f-f_0}{0.64}\\right)-\\phi_1.$$\n",
    "\n",
    "To control the value of $t_m$ in the range of $[-\\frac{T}{2}, \\frac{T}{2}]$, given the value of $\\phi_1 = \\arctan\\left(\\frac{\\hat{n}_{\\textrm{source}}\\cdot\\vec{u}_k}{\\hat{n}_{\\textrm{source}}\\cdot\\vec{v}_k}\\right)$, the solution of $f - f_0$ is\n",
    "$$f-f_0 = 0.64\\cos\\left(\\omega_\\text{orb} t_m + \\phi_1\\right)$$"
   ]
  },
  {
   "cell_type": "code",
   "execution_count": 10,
   "metadata": {
    "scrolled": false
   },
   "outputs": [
    {
     "data": {
      "application/vnd.jupyter.widget-view+json": {
       "model_id": "9a4d7a128abd4b539d30e4ce3de19166",
       "version_major": 2,
       "version_minor": 0
      },
      "text/plain": [
       "interactive(children=(FloatSlider(value=3.141592653589793, description='alpha', max=6.283185307179586), FloatS…"
      ]
     },
     "metadata": {},
     "output_type": "display_data"
    }
   ],
   "source": [
    "%matplotlib inline\n",
    "from ipywidgets import interactive\n",
    "\n",
    "import numpy as np\n",
    "import matplotlib\n",
    "matplotlib.rcParams['text.usetex'] = True\n",
    "import matplotlib.pyplot as plt\n",
    "\n",
    "def f_f0plot(alpha, delta, location):\n",
    "    if location == 'Hanford':\n",
    "        alpha0 = (180-119.407656) * np.pi / 180 # longitude\n",
    "        delta0 = 46.455144 * np.pi / 180 # latitude\n",
    "    elif location == 'Livingston':\n",
    "        alpha0 = (180-90.774242) * np.pi / 180 # longitude\n",
    "        delta0 = 30.562894 * np.pi / 180 # latitude\n",
    "    nsource = np.array([np.cos(alpha) * np.cos(delta), np.sin(alpha)*np.cos(delta), np.sin(delta)])\n",
    "    Rearth = 6371 * 10 ** 3\n",
    "    nu1 = Rearth * np.array([np.cos(alpha0) * np.cos(delta0), np.sin(alpha0)*np.cos(delta0), 0])\n",
    "    u1 = Rearth * np.array([-np.sin(alpha0) * np.cos(delta0), np.cos(alpha0)*np.cos(delta0), 0])\n",
    "    phi1 = np.arctan(np.dot(nsource, nu1.T) / np.dot(nsource, u1.T))\n",
    "    \n",
    "    T = 12 * 3600 # half day\n",
    "    omegaorb = 2e-7\n",
    "    tm = np.linspace(-T/2, T/2, 600)\n",
    "    f_f0_1 = 0.64 * np.cos(omegaorb * tm + phi1)\n",
    "    print('The range of f-f_0:\\n Max value: {0:1.6f}; \\n Min value: {1:1.6f}.'.format(max(f_f0_1), min(f_f0_1)))\n",
    "    \n",
    "    plt.figure(2)\n",
    "    plt.plot(tm, f_f0_1)\n",
    "    plt.xlabel(r'$\\mathbf{t_m}$')\n",
    "    plt.ylabel(r'$\\mathbf{f}-\\mathbf{f_0}$')\n",
    "    plt.title('LIGO '+location)\n",
    "    plt.show()\n",
    "\n",
    "interactive_plot = interactive(f_f0plot, alpha=(0, 2 * np.pi), delta=(-np.pi/2, np.pi/2), location = ['Hanford', 'Livingston'])\n",
    "output = interactive_plot.children[-1]\n",
    "output.layout.height = '350px'\n",
    "interactive_plot"
   ]
  }
 ],
 "metadata": {
  "kernelspec": {
   "display_name": "Python 3",
   "language": "python",
   "name": "python3"
  },
  "language_info": {
   "codemirror_mode": {
    "name": "ipython",
    "version": 3
   },
   "file_extension": ".py",
   "mimetype": "text/x-python",
   "name": "python",
   "nbconvert_exporter": "python",
   "pygments_lexer": "ipython3",
   "version": "3.7.1"
  },
  "toc": {
   "base_numbering": 1,
   "nav_menu": {},
   "number_sections": true,
   "sideBar": true,
   "skip_h1_title": false,
   "title_cell": "Table of Contents",
   "title_sidebar": "Contents",
   "toc_cell": false,
   "toc_position": {},
   "toc_section_display": true,
   "toc_window_display": true
  },
  "widgets": {
   "application/vnd.jupyter.widget-state+json": {
    "state": {
     "01bb68d0e35248e286e403c85b9dbb77": {
      "model_module": "@jupyter-widgets/base",
      "model_module_version": "1.2.0",
      "model_name": "LayoutModel",
      "state": {
       "_model_module_version": "1.2.0",
       "_view_module_version": "1.2.0",
       "justify_items": null,
       "object_fit": null,
       "object_position": null
      }
     },
     "03cba47864c4498dbf78c24ae25f276d": {
      "model_module": "@jupyter-widgets/controls",
      "model_module_version": "1.5.0",
      "model_name": "SliderStyleModel",
      "state": {
       "_model_module_version": "1.5.0",
       "_view_module_version": "1.2.0",
       "description_width": ""
      }
     },
     "082caf4dcdff4094a87a8d267cb1caad": {
      "model_module": "@jupyter-widgets/base",
      "model_module_version": "1.2.0",
      "model_name": "LayoutModel",
      "state": {
       "_model_module_version": "1.2.0",
       "_view_module_version": "1.2.0",
       "justify_items": null,
       "object_fit": null,
       "object_position": null
      }
     },
     "08c0d1f5aca4461a843edc4a585b1338": {
      "model_module": "@jupyter-widgets/output",
      "model_module_version": "1.0.0",
      "model_name": "OutputModel",
      "state": {
       "layout": "IPY_MODEL_907550efec4a4fa89c8a3c4ed9c6fc69",
       "outputs": [
        {
         "name": "stdout",
         "output_type": "stream",
         "text": "The range of f-f_0:\n Max value: 0.558887; \n Min value: 0.556172.\n"
        },
        {
         "data": {
          "image/png": "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\n",
          "text/plain": "<Figure size 432x288 with 1 Axes>"
         },
         "metadata": {
          "needs_background": "light"
         },
         "output_type": "display_data"
        }
       ]
      }
     },
     "08dd239fa4664c148bffce4747b8697e": {
      "model_module": "@jupyter-widgets/base",
      "model_module_version": "1.2.0",
      "model_name": "LayoutModel",
      "state": {
       "_model_module_version": "1.2.0",
       "_view_module_version": "1.2.0",
       "height": "350px",
       "justify_items": null,
       "object_fit": null,
       "object_position": null
      }
     },
     "09a6eb5c1c734fe48ca2b6bd9a943b31": {
      "model_module": "@jupyter-widgets/controls",
      "model_module_version": "1.5.0",
      "model_name": "FloatSliderModel",
      "state": {
       "_model_module_version": "1.5.0",
       "_view_module_version": "1.5.0",
       "description": "alpha",
       "layout": "IPY_MODEL_a97870dc49c34a7184f22400ebd1516e",
       "max": 6.283185307179586,
       "step": 0.1,
       "style": "IPY_MODEL_6d2f415e45d148a0967e07e6de806b9e",
       "value": 3.141592653589793
      }
     },
     "0bd83a7131424f9498ce51c8108f0c1f": {
      "model_module": "@jupyter-widgets/controls",
      "model_module_version": "1.5.0",
      "model_name": "VBoxModel",
      "state": {
       "_dom_classes": [
        "widget-interact"
       ],
       "_model_module_version": "1.5.0",
       "_view_module_version": "1.5.0",
       "children": [
        "IPY_MODEL_83e216f8c8ad4fd28e13498dd2e70467",
        "IPY_MODEL_a8a492e445324eb69da6db4d214fdf09",
        "IPY_MODEL_dd558a262aa9424aaffeb87122d0594e",
        "IPY_MODEL_ffb3a648691b407d8ed5bea1d9923c42"
       ],
       "layout": "IPY_MODEL_b8fb772fe14845e68d8fa8aeb97cfc45"
      }
     },
     "0d3a19e8fcd5402bb4822be7505bac69": {
      "model_module": "@jupyter-widgets/controls",
      "model_module_version": "1.5.0",
      "model_name": "DescriptionStyleModel",
      "state": {
       "_model_module_version": "1.5.0",
       "_view_module_version": "1.2.0",
       "description_width": ""
      }
     },
     "13988f76172344a38599f1d9052b4d61": {
      "model_module": "@jupyter-widgets/base",
      "model_module_version": "1.2.0",
      "model_name": "LayoutModel",
      "state": {
       "_model_module_version": "1.2.0",
       "_view_module_version": "1.2.0",
       "justify_items": null,
       "object_fit": null,
       "object_position": null
      }
     },
     "14aa2d41a1b74732a0fc490178087d6e": {
      "model_module": "@jupyter-widgets/controls",
      "model_module_version": "1.5.0",
      "model_name": "FloatSliderModel",
      "state": {
       "_model_module_version": "1.5.0",
       "_view_module_version": "1.5.0",
       "description": "alpha",
       "layout": "IPY_MODEL_b65c11b62f8a433cb12cdd22302184d5",
       "max": 6.283185307179586,
       "step": 0.1,
       "style": "IPY_MODEL_d498c63fe3ac45a5bae94c5f469aa533",
       "value": 3.141592653589793
      }
     },
     "17a0074e79984319959366254d604ac1": {
      "model_module": "@jupyter-widgets/controls",
      "model_module_version": "1.5.0",
      "model_name": "DescriptionStyleModel",
      "state": {
       "_model_module_version": "1.5.0",
       "_view_module_version": "1.2.0",
       "description_width": ""
      }
     },
     "1abfe642cfab43fc9f786975f1a64b6c": {
      "model_module": "@jupyter-widgets/controls",
      "model_module_version": "1.5.0",
      "model_name": "SliderStyleModel",
      "state": {
       "_model_module_version": "1.5.0",
       "_view_module_version": "1.2.0",
       "description_width": ""
      }
     },
     "1ad5a34002f44384a0fc94f6e34fcf0a": {
      "model_module": "@jupyter-widgets/controls",
      "model_module_version": "1.5.0",
      "model_name": "DropdownModel",
      "state": {
       "_model_module_version": "1.5.0",
       "_options_labels": [
        "Hanford",
        "Livingston"
       ],
       "_view_module_version": "1.5.0",
       "description": "location",
       "index": 0,
       "layout": "IPY_MODEL_bb65ba40ab6c43f9ba253cc970f2d056",
       "style": "IPY_MODEL_0d3a19e8fcd5402bb4822be7505bac69"
      }
     },
     "1b149169b7e84271b4b207f158fdfe10": {
      "model_module": "@jupyter-widgets/base",
      "model_module_version": "1.2.0",
      "model_name": "LayoutModel",
      "state": {
       "_model_module_version": "1.2.0",
       "_view_module_version": "1.2.0",
       "justify_items": null,
       "object_fit": null,
       "object_position": null
      }
     },
     "1c6ad3e93d8a49fcb9b3b3c606969f4d": {
      "model_module": "@jupyter-widgets/base",
      "model_module_version": "1.2.0",
      "model_name": "LayoutModel",
      "state": {
       "_model_module_version": "1.2.0",
       "_view_module_version": "1.2.0",
       "justify_items": null,
       "object_fit": null,
       "object_position": null
      }
     },
     "1df1359983cd49738835e0906a8b0b1c": {
      "model_module": "@jupyter-widgets/controls",
      "model_module_version": "1.5.0",
      "model_name": "FloatSliderModel",
      "state": {
       "_model_module_version": "1.5.0",
       "_view_module_version": "1.5.0",
       "description": "delta",
       "layout": "IPY_MODEL_59387b90d5c1474daf24bb01546a030a",
       "max": 1.5707963267948966,
       "min": -1.5707963267948966,
       "step": 0.1,
       "style": "IPY_MODEL_8f7cce84dd234f109ba694039065d97e"
      }
     },
     "2095f1f608444ba297cfda30da6c79e4": {
      "model_module": "@jupyter-widgets/controls",
      "model_module_version": "1.5.0",
      "model_name": "FloatSliderModel",
      "state": {
       "_model_module_version": "1.5.0",
       "_view_module_version": "1.5.0",
       "description": "delta",
       "layout": "IPY_MODEL_8d66e6dab03c4ef8ab1c5209fd33d188",
       "max": 1.5707963267948966,
       "min": -1.5707963267948966,
       "step": 0.1,
       "style": "IPY_MODEL_03cba47864c4498dbf78c24ae25f276d",
       "value": 0.6292
      }
     },
     "2295ebee5dc84e968fc0c4e7477f02c3": {
      "model_module": "@jupyter-widgets/base",
      "model_module_version": "1.2.0",
      "model_name": "LayoutModel",
      "state": {
       "_model_module_version": "1.2.0",
       "_view_module_version": "1.2.0",
       "height": "350px",
       "justify_items": null,
       "object_fit": null,
       "object_position": null
      }
     },
     "2321b5eeffef475ab6b47834b6055492": {
      "model_module": "@jupyter-widgets/controls",
      "model_module_version": "1.5.0",
      "model_name": "VBoxModel",
      "state": {
       "_dom_classes": [
        "widget-interact"
       ],
       "_model_module_version": "1.5.0",
       "_view_module_version": "1.5.0",
       "children": [
        "IPY_MODEL_74cd2937f8cd419b804e576d57c53af1",
        "IPY_MODEL_f79fdacf8dd7424d9cab455dc69ef32e",
        "IPY_MODEL_a6fac309dca24850989187965ad6ae55",
        "IPY_MODEL_e04fc667cbe0447ba86f5848302f7800"
       ],
       "layout": "IPY_MODEL_468d90fa8f0a4d17bfec479e99fcb49d"
      }
     },
     "25b46b4c0e534e6d9519215c7e53a4f9": {
      "model_module": "@jupyter-widgets/controls",
      "model_module_version": "1.5.0",
      "model_name": "DescriptionStyleModel",
      "state": {
       "_model_module_version": "1.5.0",
       "_view_module_version": "1.2.0",
       "description_width": ""
      }
     },
     "260eda4679f84d2bbb8b354daef3d276": {
      "model_module": "@jupyter-widgets/controls",
      "model_module_version": "1.5.0",
      "model_name": "SliderStyleModel",
      "state": {
       "_model_module_version": "1.5.0",
       "_view_module_version": "1.2.0",
       "description_width": ""
      }
     },
     "294805c542084c669efa3b8975e0e55e": {
      "model_module": "@jupyter-widgets/controls",
      "model_module_version": "1.5.0",
      "model_name": "DropdownModel",
      "state": {
       "_model_module_version": "1.5.0",
       "_options_labels": [
        "Hanford",
        "Livingston"
       ],
       "_view_module_version": "1.5.0",
       "description": "location",
       "index": 0,
       "layout": "IPY_MODEL_9796171b0a114c30a641a7158535ab08",
       "style": "IPY_MODEL_ad379dad2b934ebea2ac2e45314a7938"
      }
     },
     "2aaecda937ae4463b8db0cef1a2d38bc": {
      "model_module": "@jupyter-widgets/controls",
      "model_module_version": "1.5.0",
      "model_name": "FloatSliderModel",
      "state": {
       "_model_module_version": "1.5.0",
       "_view_module_version": "1.5.0",
       "description": "delta",
       "layout": "IPY_MODEL_45942d28e23a424396b42ca6b98fddba",
       "max": 1.5707963267948966,
       "min": -1.5707963267948966,
       "step": 0.1,
       "style": "IPY_MODEL_651cf5e964d045d19c2bbeabda5af17f"
      }
     },
     "2c91727bce0945e9a972a1ce04989897": {
      "model_module": "@jupyter-widgets/output",
      "model_module_version": "1.0.0",
      "model_name": "OutputModel",
      "state": {
       "layout": "IPY_MODEL_2295ebee5dc84e968fc0c4e7477f02c3",
       "outputs": [
        {
         "name": "stdout",
         "output_type": "stream",
         "text": "The range of f-f_0:\n Max value: 0.558887; \n Min value: 0.556172.\n"
        },
        {
         "data": {
          "image/png": "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\n",
          "text/plain": "<Figure size 432x288 with 1 Axes>"
         },
         "metadata": {
          "needs_background": "light"
         },
         "output_type": "display_data"
        }
       ]
      }
     },
     "32c3ae8246924104853cedf85184133d": {
      "model_module": "@jupyter-widgets/controls",
      "model_module_version": "1.5.0",
      "model_name": "FloatSliderModel",
      "state": {
       "_model_module_version": "1.5.0",
       "_view_module_version": "1.5.0",
       "description": "delta",
       "layout": "IPY_MODEL_de3970ab6d7946279d3267fc6591a8d7",
       "max": 1.5707963267948966,
       "min": -1.5707963267948966,
       "step": 0.1,
       "style": "IPY_MODEL_1abfe642cfab43fc9f786975f1a64b6c"
      }
     },
     "33e05db04137468e854c66f46d42dd49": {
      "model_module": "@jupyter-widgets/base",
      "model_module_version": "1.2.0",
      "model_name": "LayoutModel",
      "state": {
       "_model_module_version": "1.2.0",
       "_view_module_version": "1.2.0",
       "justify_items": null,
       "object_fit": null,
       "object_position": null
      }
     },
     "3476296db45642859bad8796e9ee448d": {
      "model_module": "@jupyter-widgets/base",
      "model_module_version": "1.2.0",
      "model_name": "LayoutModel",
      "state": {
       "_model_module_version": "1.2.0",
       "_view_module_version": "1.2.0",
       "justify_items": null,
       "object_fit": null,
       "object_position": null
      }
     },
     "35aea6499e864fabbc8fa1565a0fa37a": {
      "model_module": "@jupyter-widgets/base",
      "model_module_version": "1.2.0",
      "model_name": "LayoutModel",
      "state": {
       "_model_module_version": "1.2.0",
       "_view_module_version": "1.2.0",
       "justify_items": null,
       "object_fit": null,
       "object_position": null
      }
     },
     "360dc2982f6f45d8b65cdf97ab419ab3": {
      "model_module": "@jupyter-widgets/base",
      "model_module_version": "1.2.0",
      "model_name": "LayoutModel",
      "state": {
       "_model_module_version": "1.2.0",
       "_view_module_version": "1.2.0",
       "justify_items": null,
       "object_fit": null,
       "object_position": null
      }
     },
     "380393b0d2954b279a53e70b4f134e9b": {
      "model_module": "@jupyter-widgets/base",
      "model_module_version": "1.2.0",
      "model_name": "LayoutModel",
      "state": {
       "_model_module_version": "1.2.0",
       "_view_module_version": "1.2.0",
       "justify_items": null,
       "object_fit": null,
       "object_position": null
      }
     },
     "38866c87f07b4f348ed123a4d823dbb5": {
      "model_module": "@jupyter-widgets/controls",
      "model_module_version": "1.5.0",
      "model_name": "DescriptionStyleModel",
      "state": {
       "_model_module_version": "1.5.0",
       "_view_module_version": "1.2.0",
       "description_width": ""
      }
     },
     "45942d28e23a424396b42ca6b98fddba": {
      "model_module": "@jupyter-widgets/base",
      "model_module_version": "1.2.0",
      "model_name": "LayoutModel",
      "state": {
       "_model_module_version": "1.2.0",
       "_view_module_version": "1.2.0",
       "justify_items": null,
       "object_fit": null,
       "object_position": null
      }
     },
     "45accf582b0b4d56a35e7b9eeaf110a1": {
      "model_module": "@jupyter-widgets/controls",
      "model_module_version": "1.5.0",
      "model_name": "SliderStyleModel",
      "state": {
       "_model_module_version": "1.5.0",
       "_view_module_version": "1.2.0",
       "description_width": ""
      }
     },
     "468d90fa8f0a4d17bfec479e99fcb49d": {
      "model_module": "@jupyter-widgets/base",
      "model_module_version": "1.2.0",
      "model_name": "LayoutModel",
      "state": {
       "_model_module_version": "1.2.0",
       "_view_module_version": "1.2.0",
       "justify_items": null,
       "object_fit": null,
       "object_position": null
      }
     },
     "47b8b4529bd045b981d1bdd8025fe154": {
      "model_module": "@jupyter-widgets/controls",
      "model_module_version": "1.5.0",
      "model_name": "FloatSliderModel",
      "state": {
       "_model_module_version": "1.5.0",
       "_view_module_version": "1.5.0",
       "description": "delta",
       "layout": "IPY_MODEL_60fd636e93784cbf938d0b2cfd37cce0",
       "max": 1.5707963267948966,
       "min": -1.5707963267948966,
       "step": 0.1,
       "style": "IPY_MODEL_abfa7fb3d1e24be8b0add66515199587"
      }
     },
     "481bc7e569604a3a89106ae47656af06": {
      "model_module": "@jupyter-widgets/controls",
      "model_module_version": "1.5.0",
      "model_name": "FloatSliderModel",
      "state": {
       "_model_module_version": "1.5.0",
       "_view_module_version": "1.5.0",
       "description": "delta",
       "layout": "IPY_MODEL_360dc2982f6f45d8b65cdf97ab419ab3",
       "max": 1.5707963267948966,
       "min": -1.5707963267948966,
       "step": 0.1,
       "style": "IPY_MODEL_841463f3b37645068d2a9a1c333fc218"
      }
     },
     "4845b46324514ffdbffea27aeaf848e2": {
      "model_module": "@jupyter-widgets/base",
      "model_module_version": "1.2.0",
      "model_name": "LayoutModel",
      "state": {
       "_model_module_version": "1.2.0",
       "_view_module_version": "1.2.0",
       "justify_items": null,
       "object_fit": null,
       "object_position": null
      }
     },
     "4a20db37080c4fcebb996dd6db189f4a": {
      "model_module": "@jupyter-widgets/output",
      "model_module_version": "1.0.0",
      "model_name": "OutputModel",
      "state": {
       "layout": "IPY_MODEL_e7af36fab84b43a8a95d59661df979fc",
       "outputs": [
        {
         "name": "stdout",
         "output_type": "stream",
         "text": "The range of f-f_0:\n Max value: 0.558887; \n Min value: 0.556172.\n"
        },
        {
         "data": {
          "image/png": "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\n",
          "text/plain": "<Figure size 432x288 with 1 Axes>"
         },
         "metadata": {
          "needs_background": "light"
         },
         "output_type": "display_data"
        }
       ]
      }
     },
     "5093713d97204174bd9b0fe85739bb00": {
      "model_module": "@jupyter-widgets/base",
      "model_module_version": "1.2.0",
      "model_name": "LayoutModel",
      "state": {
       "_model_module_version": "1.2.0",
       "_view_module_version": "1.2.0",
       "height": "350px",
       "justify_items": null,
       "object_fit": null,
       "object_position": null
      }
     },
     "5232fc78f78f493aa4a50d5ec9359795": {
      "model_module": "@jupyter-widgets/base",
      "model_module_version": "1.2.0",
      "model_name": "LayoutModel",
      "state": {
       "_model_module_version": "1.2.0",
       "_view_module_version": "1.2.0",
       "justify_items": null,
       "object_fit": null,
       "object_position": null
      }
     },
     "5578427793414c3381db3b09a2cfe1ed": {
      "model_module": "@jupyter-widgets/controls",
      "model_module_version": "1.5.0",
      "model_name": "DropdownModel",
      "state": {
       "_model_module_version": "1.5.0",
       "_options_labels": [
        "Hanford",
        "Livingston"
       ],
       "_view_module_version": "1.5.0",
       "description": "location",
       "index": 0,
       "layout": "IPY_MODEL_5c00087ae92f4daab70fc543f8beb42c",
       "style": "IPY_MODEL_38866c87f07b4f348ed123a4d823dbb5"
      }
     },
     "59387b90d5c1474daf24bb01546a030a": {
      "model_module": "@jupyter-widgets/base",
      "model_module_version": "1.2.0",
      "model_name": "LayoutModel",
      "state": {
       "_model_module_version": "1.2.0",
       "_view_module_version": "1.2.0",
       "justify_items": null,
       "object_fit": null,
       "object_position": null
      }
     },
     "5b5c0f602d3e45d0bf55bdfbcaab7988": {
      "model_module": "@jupyter-widgets/controls",
      "model_module_version": "1.5.0",
      "model_name": "SliderStyleModel",
      "state": {
       "_model_module_version": "1.5.0",
       "_view_module_version": "1.2.0",
       "description_width": ""
      }
     },
     "5b5f810199c748f19e56d1f735e341f3": {
      "model_module": "@jupyter-widgets/base",
      "model_module_version": "1.2.0",
      "model_name": "LayoutModel",
      "state": {
       "_model_module_version": "1.2.0",
       "_view_module_version": "1.2.0",
       "justify_items": null,
       "object_fit": null,
       "object_position": null
      }
     },
     "5c00087ae92f4daab70fc543f8beb42c": {
      "model_module": "@jupyter-widgets/base",
      "model_module_version": "1.2.0",
      "model_name": "LayoutModel",
      "state": {
       "_model_module_version": "1.2.0",
       "_view_module_version": "1.2.0",
       "justify_items": null,
       "object_fit": null,
       "object_position": null
      }
     },
     "5d5b4191baa441c58afcc66e04d35638": {
      "model_module": "@jupyter-widgets/controls",
      "model_module_version": "1.5.0",
      "model_name": "SliderStyleModel",
      "state": {
       "_model_module_version": "1.5.0",
       "_view_module_version": "1.2.0",
       "description_width": ""
      }
     },
     "60fd636e93784cbf938d0b2cfd37cce0": {
      "model_module": "@jupyter-widgets/base",
      "model_module_version": "1.2.0",
      "model_name": "LayoutModel",
      "state": {
       "_model_module_version": "1.2.0",
       "_view_module_version": "1.2.0",
       "justify_items": null,
       "object_fit": null,
       "object_position": null
      }
     },
     "64fad545860841d6b6c0f4601090a9eb": {
      "model_module": "@jupyter-widgets/base",
      "model_module_version": "1.2.0",
      "model_name": "LayoutModel",
      "state": {
       "_model_module_version": "1.2.0",
       "_view_module_version": "1.2.0",
       "justify_items": null,
       "object_fit": null,
       "object_position": null
      }
     },
     "651cf5e964d045d19c2bbeabda5af17f": {
      "model_module": "@jupyter-widgets/controls",
      "model_module_version": "1.5.0",
      "model_name": "SliderStyleModel",
      "state": {
       "_model_module_version": "1.5.0",
       "_view_module_version": "1.2.0",
       "description_width": ""
      }
     },
     "673ee481d0f942d3be5ac3430479ad85": {
      "model_module": "@jupyter-widgets/controls",
      "model_module_version": "1.5.0",
      "model_name": "FloatSliderModel",
      "state": {
       "_model_module_version": "1.5.0",
       "_view_module_version": "1.5.0",
       "description": "alpha",
       "layout": "IPY_MODEL_d0f033124aa344e4b6228c3d645c7352",
       "max": 6.283185307179586,
       "step": 0.1,
       "style": "IPY_MODEL_ac3c48b310a64452a8eed2257efefde7",
       "value": 3.141592653589793
      }
     },
     "67ff5784dbc74764b29530ae9e1c7ada": {
      "model_module": "@jupyter-widgets/output",
      "model_module_version": "1.0.0",
      "model_name": "OutputModel",
      "state": {
       "layout": "IPY_MODEL_b2ee959d2307442fa17c9dea15d01dd8",
       "outputs": [
        {
         "name": "stdout",
         "output_type": "stream",
         "text": "The range of f-f_0:\n Max value: 0.558887; \n Min value: 0.556172.\n"
        },
        {
         "data": {
          "image/png": "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\n",
          "text/plain": "<Figure size 432x288 with 1 Axes>"
         },
         "metadata": {
          "needs_background": "light"
         },
         "output_type": "display_data"
        }
       ]
      }
     },
     "6b2f072aa2834bde9f335c8963d81597": {
      "model_module": "@jupyter-widgets/base",
      "model_module_version": "1.2.0",
      "model_name": "LayoutModel",
      "state": {
       "_model_module_version": "1.2.0",
       "_view_module_version": "1.2.0",
       "justify_items": null,
       "object_fit": null,
       "object_position": null
      }
     },
     "6d2f415e45d148a0967e07e6de806b9e": {
      "model_module": "@jupyter-widgets/controls",
      "model_module_version": "1.5.0",
      "model_name": "SliderStyleModel",
      "state": {
       "_model_module_version": "1.5.0",
       "_view_module_version": "1.2.0",
       "description_width": ""
      }
     },
     "74cd2937f8cd419b804e576d57c53af1": {
      "model_module": "@jupyter-widgets/controls",
      "model_module_version": "1.5.0",
      "model_name": "FloatSliderModel",
      "state": {
       "_model_module_version": "1.5.0",
       "_view_module_version": "1.5.0",
       "description": "alpha",
       "layout": "IPY_MODEL_5b5f810199c748f19e56d1f735e341f3",
       "max": 6.283185307179586,
       "step": 0.1,
       "style": "IPY_MODEL_f2ace9f967c0493e97ad81f9cb8f4d81",
       "value": 3.141592653589793
      }
     },
     "751d7ae039e547608d0224b758be6578": {
      "model_module": "@jupyter-widgets/controls",
      "model_module_version": "1.5.0",
      "model_name": "DescriptionStyleModel",
      "state": {
       "_model_module_version": "1.5.0",
       "_view_module_version": "1.2.0",
       "description_width": ""
      }
     },
     "8252fae9db0943fba06ea42911c02518": {
      "model_module": "@jupyter-widgets/output",
      "model_module_version": "1.0.0",
      "model_name": "OutputModel",
      "state": {
       "layout": "IPY_MODEL_9e85771047b14010a77cb184682258cc",
       "outputs": [
        {
         "name": "stdout",
         "output_type": "stream",
         "text": "The range of f-f_0:\n Max value: 0.558887; \n Min value: 0.556172.\n"
        },
        {
         "data": {
          "image/png": "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\n",
          "text/plain": "<Figure size 432x288 with 1 Axes>"
         },
         "metadata": {
          "needs_background": "light"
         },
         "output_type": "display_data"
        }
       ]
      }
     },
     "83e216f8c8ad4fd28e13498dd2e70467": {
      "model_module": "@jupyter-widgets/controls",
      "model_module_version": "1.5.0",
      "model_name": "FloatSliderModel",
      "state": {
       "_model_module_version": "1.5.0",
       "_view_module_version": "1.5.0",
       "description": "alpha",
       "layout": "IPY_MODEL_da03849a2cca427cac72d4c717956388",
       "max": 6.283185307179586,
       "step": 0.1,
       "style": "IPY_MODEL_5b5c0f602d3e45d0bf55bdfbcaab7988",
       "value": 3.141592653589793
      }
     },
     "841463f3b37645068d2a9a1c333fc218": {
      "model_module": "@jupyter-widgets/controls",
      "model_module_version": "1.5.0",
      "model_name": "SliderStyleModel",
      "state": {
       "_model_module_version": "1.5.0",
       "_view_module_version": "1.2.0",
       "description_width": ""
      }
     },
     "863f129f25064a06889658d1c549e3e9": {
      "model_module": "@jupyter-widgets/controls",
      "model_module_version": "1.5.0",
      "model_name": "VBoxModel",
      "state": {
       "_dom_classes": [
        "widget-interact"
       ],
       "_model_module_version": "1.5.0",
       "_view_module_version": "1.5.0",
       "children": [
        "IPY_MODEL_adcc41c570fa498d9c44997ac5822520",
        "IPY_MODEL_481bc7e569604a3a89106ae47656af06",
        "IPY_MODEL_da6241a34f394990977e800493fdb9af",
        "IPY_MODEL_8252fae9db0943fba06ea42911c02518"
       ],
       "layout": "IPY_MODEL_4845b46324514ffdbffea27aeaf848e2"
      }
     },
     "898eab72091a47b9a1d40bddd73547cb": {
      "model_module": "@jupyter-widgets/controls",
      "model_module_version": "1.5.0",
      "model_name": "DropdownModel",
      "state": {
       "_model_module_version": "1.5.0",
       "_options_labels": [
        "Hanford",
        "Livingston"
       ],
       "_view_module_version": "1.5.0",
       "description": "location",
       "index": 0,
       "layout": "IPY_MODEL_98489b68ba944a9bb587b031fad65c24",
       "style": "IPY_MODEL_25b46b4c0e534e6d9519215c7e53a4f9"
      }
     },
     "8c78a49d183d43e3a4df4f9d60b12e16": {
      "model_module": "@jupyter-widgets/controls",
      "model_module_version": "1.5.0",
      "model_name": "DropdownModel",
      "state": {
       "_model_module_version": "1.5.0",
       "_options_labels": [
        "Hanford",
        "Livingston"
       ],
       "_view_module_version": "1.5.0",
       "description": "location",
       "index": 0,
       "layout": "IPY_MODEL_6b2f072aa2834bde9f335c8963d81597",
       "style": "IPY_MODEL_751d7ae039e547608d0224b758be6578"
      }
     },
     "8d66e6dab03c4ef8ab1c5209fd33d188": {
      "model_module": "@jupyter-widgets/base",
      "model_module_version": "1.2.0",
      "model_name": "LayoutModel",
      "state": {
       "_model_module_version": "1.2.0",
       "_view_module_version": "1.2.0",
       "justify_items": null,
       "object_fit": null,
       "object_position": null
      }
     },
     "8f13a8ee7da14b1b942a15a54b3796fc": {
      "model_module": "@jupyter-widgets/base",
      "model_module_version": "1.2.0",
      "model_name": "LayoutModel",
      "state": {
       "_model_module_version": "1.2.0",
       "_view_module_version": "1.2.0",
       "justify_items": null,
       "object_fit": null,
       "object_position": null
      }
     },
     "8f7cce84dd234f109ba694039065d97e": {
      "model_module": "@jupyter-widgets/controls",
      "model_module_version": "1.5.0",
      "model_name": "SliderStyleModel",
      "state": {
       "_model_module_version": "1.5.0",
       "_view_module_version": "1.2.0",
       "description_width": ""
      }
     },
     "907550efec4a4fa89c8a3c4ed9c6fc69": {
      "model_module": "@jupyter-widgets/base",
      "model_module_version": "1.2.0",
      "model_name": "LayoutModel",
      "state": {
       "_model_module_version": "1.2.0",
       "_view_module_version": "1.2.0",
       "height": "350px",
       "justify_items": null,
       "object_fit": null,
       "object_position": null
      }
     },
     "94de7386a152499ba640690985f98785": {
      "model_module": "@jupyter-widgets/base",
      "model_module_version": "1.2.0",
      "model_name": "LayoutModel",
      "state": {
       "_model_module_version": "1.2.0",
       "_view_module_version": "1.2.0",
       "height": "350px",
       "justify_items": null,
       "object_fit": null,
       "object_position": null
      }
     },
     "9796171b0a114c30a641a7158535ab08": {
      "model_module": "@jupyter-widgets/base",
      "model_module_version": "1.2.0",
      "model_name": "LayoutModel",
      "state": {
       "_model_module_version": "1.2.0",
       "_view_module_version": "1.2.0",
       "justify_items": null,
       "object_fit": null,
       "object_position": null
      }
     },
     "98489b68ba944a9bb587b031fad65c24": {
      "model_module": "@jupyter-widgets/base",
      "model_module_version": "1.2.0",
      "model_name": "LayoutModel",
      "state": {
       "_model_module_version": "1.2.0",
       "_view_module_version": "1.2.0",
       "justify_items": null,
       "object_fit": null,
       "object_position": null
      }
     },
     "9a4d7a128abd4b539d30e4ce3de19166": {
      "model_module": "@jupyter-widgets/controls",
      "model_module_version": "1.5.0",
      "model_name": "VBoxModel",
      "state": {
       "_dom_classes": [
        "widget-interact"
       ],
       "_model_module_version": "1.5.0",
       "_view_module_version": "1.5.0",
       "children": [
        "IPY_MODEL_f1b6ad59e64e400889fe87b676961225",
        "IPY_MODEL_2095f1f608444ba297cfda30da6c79e4",
        "IPY_MODEL_5578427793414c3381db3b09a2cfe1ed",
        "IPY_MODEL_08c0d1f5aca4461a843edc4a585b1338"
       ],
       "layout": "IPY_MODEL_082caf4dcdff4094a87a8d267cb1caad"
      }
     },
     "9e85771047b14010a77cb184682258cc": {
      "model_module": "@jupyter-widgets/base",
      "model_module_version": "1.2.0",
      "model_name": "LayoutModel",
      "state": {
       "_model_module_version": "1.2.0",
       "_view_module_version": "1.2.0",
       "height": "350px",
       "justify_items": null,
       "object_fit": null,
       "object_position": null
      }
     },
     "a6fac309dca24850989187965ad6ae55": {
      "model_module": "@jupyter-widgets/controls",
      "model_module_version": "1.5.0",
      "model_name": "DropdownModel",
      "state": {
       "_model_module_version": "1.5.0",
       "_options_labels": [
        "Hanford",
        "Livingston"
       ],
       "_view_module_version": "1.5.0",
       "description": "location",
       "index": 0,
       "layout": "IPY_MODEL_13988f76172344a38599f1d9052b4d61",
       "style": "IPY_MODEL_a84cf4574e074d599a477576339d9cf7"
      }
     },
     "a84cf4574e074d599a477576339d9cf7": {
      "model_module": "@jupyter-widgets/controls",
      "model_module_version": "1.5.0",
      "model_name": "DescriptionStyleModel",
      "state": {
       "_model_module_version": "1.5.0",
       "_view_module_version": "1.2.0",
       "description_width": ""
      }
     },
     "a8a492e445324eb69da6db4d214fdf09": {
      "model_module": "@jupyter-widgets/controls",
      "model_module_version": "1.5.0",
      "model_name": "FloatSliderModel",
      "state": {
       "_model_module_version": "1.5.0",
       "_view_module_version": "1.5.0",
       "description": "delta",
       "layout": "IPY_MODEL_df763f222f5b4fd990954bf9db0949f4",
       "max": 1.5707963267948966,
       "min": -1.5707963267948966,
       "step": 0.1,
       "style": "IPY_MODEL_45accf582b0b4d56a35e7b9eeaf110a1"
      }
     },
     "a97870dc49c34a7184f22400ebd1516e": {
      "model_module": "@jupyter-widgets/base",
      "model_module_version": "1.2.0",
      "model_name": "LayoutModel",
      "state": {
       "_model_module_version": "1.2.0",
       "_view_module_version": "1.2.0",
       "justify_items": null,
       "object_fit": null,
       "object_position": null
      }
     },
     "aa21e06263da415789f01a4c0db39cb5": {
      "model_module": "@jupyter-widgets/output",
      "model_module_version": "1.0.0",
      "model_name": "OutputModel",
      "state": {
       "layout": "IPY_MODEL_e14bdfd2d5ef418399ca9ac11555f33e",
       "outputs": [
        {
         "name": "stdout",
         "output_type": "stream",
         "text": "The range of f-f_0:\n Max value: 0.558887; \n Min value: 0.556172.\n"
        },
        {
         "data": {
          "image/png": "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\n",
          "text/plain": "<Figure size 432x288 with 1 Axes>"
         },
         "metadata": {
          "needs_background": "light"
         },
         "output_type": "display_data"
        }
       ]
      }
     },
     "abfa7fb3d1e24be8b0add66515199587": {
      "model_module": "@jupyter-widgets/controls",
      "model_module_version": "1.5.0",
      "model_name": "SliderStyleModel",
      "state": {
       "_model_module_version": "1.5.0",
       "_view_module_version": "1.2.0",
       "description_width": ""
      }
     },
     "ac3c48b310a64452a8eed2257efefde7": {
      "model_module": "@jupyter-widgets/controls",
      "model_module_version": "1.5.0",
      "model_name": "SliderStyleModel",
      "state": {
       "_model_module_version": "1.5.0",
       "_view_module_version": "1.2.0",
       "description_width": ""
      }
     },
     "ad379dad2b934ebea2ac2e45314a7938": {
      "model_module": "@jupyter-widgets/controls",
      "model_module_version": "1.5.0",
      "model_name": "DescriptionStyleModel",
      "state": {
       "_model_module_version": "1.5.0",
       "_view_module_version": "1.2.0",
       "description_width": ""
      }
     },
     "adcc41c570fa498d9c44997ac5822520": {
      "model_module": "@jupyter-widgets/controls",
      "model_module_version": "1.5.0",
      "model_name": "FloatSliderModel",
      "state": {
       "_model_module_version": "1.5.0",
       "_view_module_version": "1.5.0",
       "description": "alpha",
       "layout": "IPY_MODEL_64fad545860841d6b6c0f4601090a9eb",
       "max": 6.283185307179586,
       "step": 0.1,
       "style": "IPY_MODEL_260eda4679f84d2bbb8b354daef3d276",
       "value": 3.141592653589793
      }
     },
     "ae00f6be61944556bc0f0e558495479f": {
      "model_module": "@jupyter-widgets/controls",
      "model_module_version": "1.5.0",
      "model_name": "VBoxModel",
      "state": {
       "_dom_classes": [
        "widget-interact"
       ],
       "_model_module_version": "1.5.0",
       "_view_module_version": "1.5.0",
       "children": [
        "IPY_MODEL_14aa2d41a1b74732a0fc490178087d6e",
        "IPY_MODEL_2aaecda937ae4463b8db0cef1a2d38bc",
        "IPY_MODEL_c2c74a11471d41f98dcfacfaead6c6f9",
        "IPY_MODEL_2c91727bce0945e9a972a1ce04989897"
       ],
       "layout": "IPY_MODEL_ce9a486ab4644bb0951bd1454ee3abdf"
      }
     },
     "b2e9d922238a435292a5696880df1bef": {
      "model_module": "@jupyter-widgets/controls",
      "model_module_version": "1.5.0",
      "model_name": "SliderStyleModel",
      "state": {
       "_model_module_version": "1.5.0",
       "_view_module_version": "1.2.0",
       "description_width": ""
      }
     },
     "b2ee959d2307442fa17c9dea15d01dd8": {
      "model_module": "@jupyter-widgets/base",
      "model_module_version": "1.2.0",
      "model_name": "LayoutModel",
      "state": {
       "_model_module_version": "1.2.0",
       "_view_module_version": "1.2.0",
       "height": "500px",
       "justify_items": null,
       "object_fit": null,
       "object_position": null
      }
     },
     "b3693c6b01c7464288ac91805bb1cbe8": {
      "model_module": "@jupyter-widgets/controls",
      "model_module_version": "1.5.0",
      "model_name": "FloatSliderModel",
      "state": {
       "_model_module_version": "1.5.0",
       "_view_module_version": "1.5.0",
       "description": "delta",
       "layout": "IPY_MODEL_35aea6499e864fabbc8fa1565a0fa37a",
       "max": 1.5707963267948966,
       "min": -1.5707963267948966,
       "step": 0.1,
       "style": "IPY_MODEL_e7bab8c9feef41df92e62dc7cc97ec9b"
      }
     },
     "b4d56295be864250b12cf98a204c3ccf": {
      "model_module": "@jupyter-widgets/controls",
      "model_module_version": "1.5.0",
      "model_name": "VBoxModel",
      "state": {
       "_dom_classes": [
        "widget-interact"
       ],
       "_model_module_version": "1.5.0",
       "_view_module_version": "1.5.0",
       "children": [
        "IPY_MODEL_eaf1741e1ceb44958c44378560b44b10",
        "IPY_MODEL_32c3ae8246924104853cedf85184133d",
        "IPY_MODEL_1ad5a34002f44384a0fc94f6e34fcf0a",
        "IPY_MODEL_67ff5784dbc74764b29530ae9e1c7ada"
       ],
       "layout": "IPY_MODEL_5232fc78f78f493aa4a50d5ec9359795"
      }
     },
     "b65c11b62f8a433cb12cdd22302184d5": {
      "model_module": "@jupyter-widgets/base",
      "model_module_version": "1.2.0",
      "model_name": "LayoutModel",
      "state": {
       "_model_module_version": "1.2.0",
       "_view_module_version": "1.2.0",
       "justify_items": null,
       "object_fit": null,
       "object_position": null
      }
     },
     "b68712260b784c88adb6787d861aeed8": {
      "model_module": "@jupyter-widgets/controls",
      "model_module_version": "1.5.0",
      "model_name": "VBoxModel",
      "state": {
       "_dom_classes": [
        "widget-interact"
       ],
       "_model_module_version": "1.5.0",
       "_view_module_version": "1.5.0",
       "children": [
        "IPY_MODEL_eef9365e53bf42bfb138ba034bbb2552",
        "IPY_MODEL_b3693c6b01c7464288ac91805bb1cbe8",
        "IPY_MODEL_898eab72091a47b9a1d40bddd73547cb",
        "IPY_MODEL_4a20db37080c4fcebb996dd6db189f4a"
       ],
       "layout": "IPY_MODEL_380393b0d2954b279a53e70b4f134e9b"
      }
     },
     "b8fb772fe14845e68d8fa8aeb97cfc45": {
      "model_module": "@jupyter-widgets/base",
      "model_module_version": "1.2.0",
      "model_name": "LayoutModel",
      "state": {
       "_model_module_version": "1.2.0",
       "_view_module_version": "1.2.0",
       "justify_items": null,
       "object_fit": null,
       "object_position": null
      }
     },
     "bb65ba40ab6c43f9ba253cc970f2d056": {
      "model_module": "@jupyter-widgets/base",
      "model_module_version": "1.2.0",
      "model_name": "LayoutModel",
      "state": {
       "_model_module_version": "1.2.0",
       "_view_module_version": "1.2.0",
       "justify_items": null,
       "object_fit": null,
       "object_position": null
      }
     },
     "bcf5a01af8de4d04a6bf3de2b6f09e85": {
      "model_module": "@jupyter-widgets/controls",
      "model_module_version": "1.5.0",
      "model_name": "SliderStyleModel",
      "state": {
       "_model_module_version": "1.5.0",
       "_view_module_version": "1.2.0",
       "description_width": ""
      }
     },
     "c2c74a11471d41f98dcfacfaead6c6f9": {
      "model_module": "@jupyter-widgets/controls",
      "model_module_version": "1.5.0",
      "model_name": "DropdownModel",
      "state": {
       "_model_module_version": "1.5.0",
       "_options_labels": [
        "Hanford",
        "Livingston"
       ],
       "_view_module_version": "1.5.0",
       "description": "location",
       "index": 0,
       "layout": "IPY_MODEL_01bb68d0e35248e286e403c85b9dbb77",
       "style": "IPY_MODEL_df89bebe4f2548309c0f4eb0494c207f"
      }
     },
     "c614f85966b84bcb8e7126a2b32a1879": {
      "model_module": "@jupyter-widgets/controls",
      "model_module_version": "1.5.0",
      "model_name": "DescriptionStyleModel",
      "state": {
       "_model_module_version": "1.5.0",
       "_view_module_version": "1.2.0",
       "description_width": ""
      }
     },
     "ce9a486ab4644bb0951bd1454ee3abdf": {
      "model_module": "@jupyter-widgets/base",
      "model_module_version": "1.2.0",
      "model_name": "LayoutModel",
      "state": {
       "_model_module_version": "1.2.0",
       "_view_module_version": "1.2.0",
       "justify_items": null,
       "object_fit": null,
       "object_position": null
      }
     },
     "d0f033124aa344e4b6228c3d645c7352": {
      "model_module": "@jupyter-widgets/base",
      "model_module_version": "1.2.0",
      "model_name": "LayoutModel",
      "state": {
       "_model_module_version": "1.2.0",
       "_view_module_version": "1.2.0",
       "justify_items": null,
       "object_fit": null,
       "object_position": null
      }
     },
     "d270817088a24b5a9ab40830b511e295": {
      "model_module": "@jupyter-widgets/controls",
      "model_module_version": "1.5.0",
      "model_name": "SliderStyleModel",
      "state": {
       "_model_module_version": "1.5.0",
       "_view_module_version": "1.2.0",
       "description_width": ""
      }
     },
     "d498c63fe3ac45a5bae94c5f469aa533": {
      "model_module": "@jupyter-widgets/controls",
      "model_module_version": "1.5.0",
      "model_name": "SliderStyleModel",
      "state": {
       "_model_module_version": "1.5.0",
       "_view_module_version": "1.2.0",
       "description_width": ""
      }
     },
     "da03849a2cca427cac72d4c717956388": {
      "model_module": "@jupyter-widgets/base",
      "model_module_version": "1.2.0",
      "model_name": "LayoutModel",
      "state": {
       "_model_module_version": "1.2.0",
       "_view_module_version": "1.2.0",
       "justify_items": null,
       "object_fit": null,
       "object_position": null
      }
     },
     "da6241a34f394990977e800493fdb9af": {
      "model_module": "@jupyter-widgets/controls",
      "model_module_version": "1.5.0",
      "model_name": "DropdownModel",
      "state": {
       "_model_module_version": "1.5.0",
       "_options_labels": [
        "Hanford",
        "Livingston"
       ],
       "_view_module_version": "1.5.0",
       "description": "location",
       "index": 0,
       "layout": "IPY_MODEL_1b149169b7e84271b4b207f158fdfe10",
       "style": "IPY_MODEL_c614f85966b84bcb8e7126a2b32a1879"
      }
     },
     "dcfad72be2d04c4c86cd80eb73502d8a": {
      "model_module": "@jupyter-widgets/controls",
      "model_module_version": "1.5.0",
      "model_name": "VBoxModel",
      "state": {
       "_dom_classes": [
        "widget-interact"
       ],
       "_model_module_version": "1.5.0",
       "_view_module_version": "1.5.0",
       "children": [
        "IPY_MODEL_673ee481d0f942d3be5ac3430479ad85",
        "IPY_MODEL_1df1359983cd49738835e0906a8b0b1c",
        "IPY_MODEL_294805c542084c669efa3b8975e0e55e",
        "IPY_MODEL_aa21e06263da415789f01a4c0db39cb5"
       ],
       "layout": "IPY_MODEL_e2452537715349dba79a2ed0cb929265"
      }
     },
     "dd558a262aa9424aaffeb87122d0594e": {
      "model_module": "@jupyter-widgets/controls",
      "model_module_version": "1.5.0",
      "model_name": "DropdownModel",
      "state": {
       "_model_module_version": "1.5.0",
       "_options_labels": [
        "Hanford",
        "Livingston"
       ],
       "_view_module_version": "1.5.0",
       "description": "location",
       "index": 0,
       "layout": "IPY_MODEL_3476296db45642859bad8796e9ee448d",
       "style": "IPY_MODEL_17a0074e79984319959366254d604ac1"
      }
     },
     "de3970ab6d7946279d3267fc6591a8d7": {
      "model_module": "@jupyter-widgets/base",
      "model_module_version": "1.2.0",
      "model_name": "LayoutModel",
      "state": {
       "_model_module_version": "1.2.0",
       "_view_module_version": "1.2.0",
       "justify_items": null,
       "object_fit": null,
       "object_position": null
      }
     },
     "df763f222f5b4fd990954bf9db0949f4": {
      "model_module": "@jupyter-widgets/base",
      "model_module_version": "1.2.0",
      "model_name": "LayoutModel",
      "state": {
       "_model_module_version": "1.2.0",
       "_view_module_version": "1.2.0",
       "justify_items": null,
       "object_fit": null,
       "object_position": null
      }
     },
     "df89bebe4f2548309c0f4eb0494c207f": {
      "model_module": "@jupyter-widgets/controls",
      "model_module_version": "1.5.0",
      "model_name": "DescriptionStyleModel",
      "state": {
       "_model_module_version": "1.5.0",
       "_view_module_version": "1.2.0",
       "description_width": ""
      }
     },
     "e04fc667cbe0447ba86f5848302f7800": {
      "model_module": "@jupyter-widgets/output",
      "model_module_version": "1.0.0",
      "model_name": "OutputModel",
      "state": {
       "layout": "IPY_MODEL_08dd239fa4664c148bffce4747b8697e",
       "outputs": [
        {
         "name": "stdout",
         "output_type": "stream",
         "text": "The range of f-f_0:\n Max value: 0.558887; \n Min value: 0.556172.\n"
        },
        {
         "data": {
          "image/png": "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\n",
          "text/plain": "<Figure size 432x288 with 1 Axes>"
         },
         "metadata": {
          "needs_background": "light"
         },
         "output_type": "display_data"
        }
       ]
      }
     },
     "e14bdfd2d5ef418399ca9ac11555f33e": {
      "model_module": "@jupyter-widgets/base",
      "model_module_version": "1.2.0",
      "model_name": "LayoutModel",
      "state": {
       "_model_module_version": "1.2.0",
       "_view_module_version": "1.2.0",
       "height": "400px",
       "justify_items": null,
       "object_fit": null,
       "object_position": null
      }
     },
     "e2452537715349dba79a2ed0cb929265": {
      "model_module": "@jupyter-widgets/base",
      "model_module_version": "1.2.0",
      "model_name": "LayoutModel",
      "state": {
       "_model_module_version": "1.2.0",
       "_view_module_version": "1.2.0",
       "justify_items": null,
       "object_fit": null,
       "object_position": null
      }
     },
     "e7af36fab84b43a8a95d59661df979fc": {
      "model_module": "@jupyter-widgets/base",
      "model_module_version": "1.2.0",
      "model_name": "LayoutModel",
      "state": {
       "_model_module_version": "1.2.0",
       "_view_module_version": "1.2.0",
       "height": "500px",
       "justify_items": null,
       "object_fit": null,
       "object_position": null
      }
     },
     "e7bab8c9feef41df92e62dc7cc97ec9b": {
      "model_module": "@jupyter-widgets/controls",
      "model_module_version": "1.5.0",
      "model_name": "SliderStyleModel",
      "state": {
       "_model_module_version": "1.5.0",
       "_view_module_version": "1.2.0",
       "description_width": ""
      }
     },
     "e948f82c0dc5463980b9f70c44133abe": {
      "model_module": "@jupyter-widgets/controls",
      "model_module_version": "1.5.0",
      "model_name": "VBoxModel",
      "state": {
       "_dom_classes": [
        "widget-interact"
       ],
       "_model_module_version": "1.5.0",
       "_view_module_version": "1.5.0",
       "children": [
        "IPY_MODEL_09a6eb5c1c734fe48ca2b6bd9a943b31",
        "IPY_MODEL_47b8b4529bd045b981d1bdd8025fe154",
        "IPY_MODEL_8c78a49d183d43e3a4df4f9d60b12e16",
        "IPY_MODEL_f6d7a2c431674bbb894122b75e619fb6"
       ],
       "layout": "IPY_MODEL_33e05db04137468e854c66f46d42dd49"
      }
     },
     "eaf1741e1ceb44958c44378560b44b10": {
      "model_module": "@jupyter-widgets/controls",
      "model_module_version": "1.5.0",
      "model_name": "FloatSliderModel",
      "state": {
       "_model_module_version": "1.5.0",
       "_view_module_version": "1.5.0",
       "description": "alpha",
       "layout": "IPY_MODEL_fbce7963adea446f880088a67b6a28ba",
       "max": 6.283185307179586,
       "step": 0.1,
       "style": "IPY_MODEL_5d5b4191baa441c58afcc66e04d35638",
       "value": 3.141592653589793
      }
     },
     "eb964e8f3d134894bcae729791b02ff7": {
      "model_module": "@jupyter-widgets/base",
      "model_module_version": "1.2.0",
      "model_name": "LayoutModel",
      "state": {
       "_model_module_version": "1.2.0",
       "_view_module_version": "1.2.0",
       "justify_items": null,
       "object_fit": null,
       "object_position": null
      }
     },
     "eef9365e53bf42bfb138ba034bbb2552": {
      "model_module": "@jupyter-widgets/controls",
      "model_module_version": "1.5.0",
      "model_name": "FloatSliderModel",
      "state": {
       "_model_module_version": "1.5.0",
       "_view_module_version": "1.5.0",
       "description": "alpha",
       "layout": "IPY_MODEL_1c6ad3e93d8a49fcb9b3b3c606969f4d",
       "max": 6.283185307179586,
       "step": 0.1,
       "style": "IPY_MODEL_bcf5a01af8de4d04a6bf3de2b6f09e85",
       "value": 3.141592653589793
      }
     },
     "f1b6ad59e64e400889fe87b676961225": {
      "model_module": "@jupyter-widgets/controls",
      "model_module_version": "1.5.0",
      "model_name": "FloatSliderModel",
      "state": {
       "_model_module_version": "1.5.0",
       "_view_module_version": "1.5.0",
       "description": "alpha",
       "layout": "IPY_MODEL_8f13a8ee7da14b1b942a15a54b3796fc",
       "max": 6.283185307179586,
       "step": 0.1,
       "style": "IPY_MODEL_b2e9d922238a435292a5696880df1bef",
       "value": 3.141592653589793
      }
     },
     "f2ace9f967c0493e97ad81f9cb8f4d81": {
      "model_module": "@jupyter-widgets/controls",
      "model_module_version": "1.5.0",
      "model_name": "SliderStyleModel",
      "state": {
       "_model_module_version": "1.5.0",
       "_view_module_version": "1.2.0",
       "description_width": ""
      }
     },
     "f6d7a2c431674bbb894122b75e619fb6": {
      "model_module": "@jupyter-widgets/output",
      "model_module_version": "1.0.0",
      "model_name": "OutputModel",
      "state": {
       "layout": "IPY_MODEL_94de7386a152499ba640690985f98785",
       "outputs": [
        {
         "name": "stdout",
         "output_type": "stream",
         "text": "The range of f-f_0:\n Max value: 0.558887; \n Min value: 0.556172.\n"
        },
        {
         "data": {
          "image/png": "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\n",
          "text/plain": "<Figure size 432x288 with 1 Axes>"
         },
         "metadata": {
          "needs_background": "light"
         },
         "output_type": "display_data"
        }
       ]
      }
     },
     "f79fdacf8dd7424d9cab455dc69ef32e": {
      "model_module": "@jupyter-widgets/controls",
      "model_module_version": "1.5.0",
      "model_name": "FloatSliderModel",
      "state": {
       "_model_module_version": "1.5.0",
       "_view_module_version": "1.5.0",
       "description": "delta",
       "layout": "IPY_MODEL_eb964e8f3d134894bcae729791b02ff7",
       "max": 1.5707963267948966,
       "min": -1.5707963267948966,
       "step": 0.1,
       "style": "IPY_MODEL_d270817088a24b5a9ab40830b511e295"
      }
     },
     "fbce7963adea446f880088a67b6a28ba": {
      "model_module": "@jupyter-widgets/base",
      "model_module_version": "1.2.0",
      "model_name": "LayoutModel",
      "state": {
       "_model_module_version": "1.2.0",
       "_view_module_version": "1.2.0",
       "justify_items": null,
       "object_fit": null,
       "object_position": null
      }
     },
     "ffb3a648691b407d8ed5bea1d9923c42": {
      "model_module": "@jupyter-widgets/output",
      "model_module_version": "1.0.0",
      "model_name": "OutputModel",
      "state": {
       "layout": "IPY_MODEL_5093713d97204174bd9b0fe85739bb00",
       "outputs": [
        {
         "name": "stdout",
         "output_type": "stream",
         "text": "The range of f-f_0:\n Max value: 0.558887; \n Min value: 0.556172.\n"
        },
        {
         "data": {
          "image/png": "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\n",
          "text/plain": "<Figure size 432x288 with 1 Axes>"
         },
         "metadata": {
          "needs_background": "light"
         },
         "output_type": "display_data"
        }
       ]
      }
     }
    },
    "version_major": 2,
    "version_minor": 0
   }
  }
 },
 "nbformat": 4,
 "nbformat_minor": 2
}
